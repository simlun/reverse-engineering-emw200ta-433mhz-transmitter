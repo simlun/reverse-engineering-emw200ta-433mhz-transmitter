{
 "cells": [
  {
   "cell_type": "markdown",
   "metadata": {},
   "source": [
    "# Hello World\n",
    "\n",
    "This notebook is my first attempt at data analysis with captured CSV data from the Rigol DS1052E oscilloscope."
   ]
  },
  {
   "cell_type": "code",
   "execution_count": 364,
   "metadata": {
    "collapsed": true,
    "scrolled": true
   },
   "outputs": [],
   "source": [
    "%matplotlib inline\n",
    "import matplotlib.pyplot as plt\n",
    "import numpy as np\n",
    "import pandas as pd"
   ]
  },
  {
   "cell_type": "markdown",
   "metadata": {},
   "source": [
    "### Read CSV"
   ]
  },
  {
   "cell_type": "code",
   "execution_count": 365,
   "metadata": {
    "collapsed": false,
    "scrolled": true
   },
   "outputs": [
    {
     "data": {
      "text/plain": [
       "array([[-0.00328,  2.2    ],\n",
       "       [-0.00324,  2.22   ],\n",
       "       [-0.0032 ,  2.2    ],\n",
       "       ..., \n",
       "       [ 0.0206 ,  0.     ],\n",
       "       [ 0.02064,  0.     ],\n",
       "       [ 0.02068,  2.22   ]])"
      ]
     },
     "execution_count": 365,
     "metadata": {},
     "output_type": "execute_result"
    }
   ],
   "source": [
    "csv = np.genfromtxt('data/helloworld.csv', delimiter=',', skip_header=2, usecols=(0, 1))\n",
    "csv"
   ]
  },
  {
   "cell_type": "code",
   "execution_count": 366,
   "metadata": {
    "collapsed": false,
    "scrolled": true
   },
   "outputs": [],
   "source": [
    "csv = np.transpose(csv)\n",
    "time = csv[0] * 1000\n",
    "voltage = csv[1]"
   ]
  },
  {
   "cell_type": "markdown",
   "metadata": {},
   "source": [
    "### Plot"
   ]
  },
  {
   "cell_type": "code",
   "execution_count": 367,
   "metadata": {
    "collapsed": false,
    "scrolled": false
   },
   "outputs": [
    {
     "data": {
      "image/png": "[encoded data removed]",
      "text/plain": [
       "<matplotlib.figure.Figure at 0x110d463d0>"
      ]
     },
     "metadata": {},
     "output_type": "display_data"
    }
   ],
   "source": [
    "def oscilloscope(x, y, width=10, height=4, start=0, stop=None):\n",
    "    fig = plt.figure(figsize=(width, height))\n",
    "    axes = fig.add_subplot(111)\n",
    "    axes.plot(x[start:stop], y[start:stop], marker='o', mec='red', mfc='red', markersize=5, linewidth=2)\n",
    "    plt.show()\n",
    "\n",
    "oscilloscope(time, voltage)"
   ]
  },
  {
   "cell_type": "markdown",
   "metadata": {},
   "source": [
    "### Frequency Analysis\n",
    "\n",
    "Finding out common voltage levels"
   ]
  },
  {
   "cell_type": "code",
   "execution_count": 368,
   "metadata": {
    "collapsed": false,
    "scrolled": true
   },
   "outputs": [
    {
     "name": "stdout",
     "output_type": "stream",
     "text": [
      "   count  value\n",
      "0    316  0.000\n",
      "1      3  0.224\n",
      "2      1  0.448\n",
      "3      4  0.672\n",
      "4      0  0.896\n",
      "5      2  1.120\n",
      "6      0  1.344\n",
      "7      0  1.568\n",
      "8      0  1.792\n",
      "9    274  2.016\n"
     ]
    }
   ],
   "source": [
    "counts, values = np.histogram(voltage)\n",
    "\n",
    "def print_table(data, columns):\n",
    "    print pd.DataFrame(data=data, columns=columns)\n",
    "\n",
    "print_table(zip(counts, values), ['count', 'value'])"
   ]
  },
  {
   "cell_type": "code",
   "execution_count": 369,
   "metadata": {
    "collapsed": false,
    "scrolled": false
   },
   "outputs": [
    {
     "data": {
      "image/png": "[encoded data removed]",
      "text/plain": [
       "<matplotlib.figure.Figure at 0x11168a610>"
      ]
     },
     "metadata": {},
     "output_type": "display_data"
    }
   ],
   "source": [
    "plt.hist(voltage)\n",
    "plt.show()"
   ]
  },
  {
   "cell_type": "code",
   "execution_count": 370,
   "metadata": {
    "collapsed": false,
    "scrolled": true
   },
   "outputs": [
    {
     "name": "stdout",
     "output_type": "stream",
     "text": [
      "   percentile  value\n",
      "0           0   0.00\n",
      "1          10   0.00\n",
      "2          20   0.00\n",
      "3          30   0.00\n",
      "4          40   0.00\n",
      "5          50   0.02\n",
      "6          60   2.20\n",
      "7          70   2.20\n",
      "8          80   2.22\n",
      "9          90   2.22\n"
     ]
    }
   ],
   "source": [
    "print_table([(n, np.percentile(voltage, n)) for n in range(0, 100, 10)], ['percentile', 'value'])"
   ]
  },
  {
   "cell_type": "markdown",
   "metadata": {},
   "source": [
    "### Cleaning the Data\n",
    "\n",
    "Creating a \"digital stream\""
   ]
  },
  {
   "cell_type": "code",
   "execution_count": 371,
   "metadata": {
    "collapsed": false,
    "scrolled": true
   },
   "outputs": [
    {
     "data": {
      "image/png": "[encoded data removed]",
      "text/plain": [
       "<matplotlib.figure.Figure at 0x1116a4fd0>"
      ]
     },
     "metadata": {},
     "output_type": "display_data"
    }
   ],
   "source": [
    "digital_one = np.percentile(voltage, 90)\n",
    "digital_stream = voltage / digital_one\n",
    "digital_stream = digital_stream.round()\n",
    "oscilloscope(time, digital_stream, height=3)"
   ]
  },
  {
   "cell_type": "markdown",
   "metadata": {},
   "source": [
    "### Next Steps\n",
    "\n",
    "Nice, this is data I can work with. Next step is to convert this stream of highs and lows to something meaningful. I'm ready to capture all button presses and decode the bytes."
   ]
  }
 ],
 "metadata": {
  "kernelspec": {
   "display_name": "Python 2",
   "language": "python",
   "name": "python2"
  },
  "language_info": {
   "codemirror_mode": {
    "name": "ipython",
    "version": 2
   },
   "file_extension": ".py",
   "mimetype": "text/x-python",
   "name": "python",
   "nbconvert_exporter": "python",
   "pygments_lexer": "ipython2",
   "version": "2.7.11"
  }
 },
 "nbformat": 4,
 "nbformat_minor": 0
}
